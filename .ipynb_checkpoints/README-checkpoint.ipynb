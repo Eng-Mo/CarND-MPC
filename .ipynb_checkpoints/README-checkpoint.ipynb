{
 "cells": [
  {
   "cell_type": "code",
   "execution_count": 1,
   "metadata": {},
   "outputs": [
    {
     "name": "stdout",
     "output_type": "stream",
     "text": [
      "Overwriting README.md\n"
     ]
    }
   ],
   "source": [
    "%%writefile README.md\n",
    "\n",
    "# CarND Extended Kalman Filter Project\n",
    "\n",
    "[//]: # (Image References)\n",
    "[image1]: ./Output_images/NIS_L.png\n",
    "[image2]: ./Output_images/NIS_R.png\n",
    "[image3]: ./Output_images/UKF_L_DS1.png\n",
    "[image4]: ./Output_images/UKF_L_DS2.png\n",
    "[image5]: ./Output_images/UKF_R_DS1.png\n",
    "[image6]: ./Output_images/UKF_R_DS2.png\n",
    "[image7]: ./Output_images/UKF_LR_DS1.png\n",
    "[image8]: ./Output_images/UKF_LR_DS2.png\n",
    "[image9]: ./Output_images/EKF_UKF.png\n",
    "\n",
    "---\n",
    "This project is an implementation of a sensor fusion algorithm based on Unscented Kalman filter for object tracking combining Lidar and Radar sensors measurements.\n",
    "\n",
    "---\n",
    "### Project Goals\n",
    "This project aims to solve the non-linearity problem in moving object by using the constant turn rate and velocity magnitude motion model(CTRV) in order to allocate the the position of object moving not in straight line and with different internal force(velocity) more precise than by using Extended Klaman Filter with linear motion and the steps as following:\n",
    "\n",
    "1. Initialize the Kalman Parameter and initial state.\n",
    "2. Predict the next state and covariance.\n",
    "3. Update the state based on sensor type.\n",
    "\n",
    "### Dependencies\n",
    "* cmake >= v3.5\n",
    "* make >= v4.1\n",
    "* gcc/g++ >= v5.4\n",
    "\n",
    "### Build instructions\n",
    "1. Clone this repo.\n",
    "2. Make a build directory: mkdir build && cd build\n",
    "3. Compile: cmake .. && make\n",
    "4. Run it: ./UnscentedKF\n",
    "\n",
    "---\n",
    "\n",
    "\n",
    "## Results\n",
    "\n",
    "The Algorithm is tested with single sensor and fused Lidar and radar sensors. the images below shows the tracking performance in each test as the vertical axis in the y axis and the horizontal axes in the x axis. The performance is achieved by tuning the acceleration noise `std_a` and turn rate noise `std_yawd` and best value choosed based on  Normalized Innovation squared (NIS) value for each prediction step for Laser and radar as following.\n",
    "![alt text][image1]\n",
    "![alt text][image2]\n",
    "The residual error is calculated by root mean square error.  the system shows higher RMSE in test 1 and 2 in using either radar or Lidar and the accuracy in Lidar is higher than the radar in estimating the position but Radar is better for estimating the velocity. In combining both sensors the accuracy increased and RMSE decreased to below the required level. By focusing on the curve moving, we find UKF has better result in position the object when moving in circular motion and I applied the approach in the Car Runaway Catch Bonus task in the following github linke: https://github.com/Eng-Mo/CarND--Catch-Runaway-Car\n",
    "![alt text][image9]\n",
    "\n",
    "\n",
    "RMSe|UKF-Laser|UKF-Radar|UKF-Fused|EKF-Fused\n",
    "--------------|---------|---------|---------\n",
    "X   |.1745    |.2234    |.0702    |.1840 \n",
    "Y   |.1540    |.3108    |.0864    |.1534  \n",
    "vX  |.6666    |.5017    |.3616    |.6056  \n",
    "vY  |.3831    |.3948    |.2661    |.0486 \n",
    "\n",
    "\n",
    "![alt text][image3]\n",
    "![alt text][image4]\n",
    "![alt text][image5]\n",
    "![alt text][image6]\n",
    "![alt text][image7]\n",
    "![alt text][image8]\n",
    "\n",
    "\n",
    "\n"
   ]
  }
 ],
 "metadata": {
  "kernelspec": {
   "display_name": "Python 3",
   "language": "python",
   "name": "python3"
  },
  "language_info": {
   "codemirror_mode": {
    "name": "ipython",
    "version": 3
   },
   "file_extension": ".py",
   "mimetype": "text/x-python",
   "name": "python",
   "nbconvert_exporter": "python",
   "pygments_lexer": "ipython3",
   "version": "3.6.2"
  }
 },
 "nbformat": 4,
 "nbformat_minor": 2
}
